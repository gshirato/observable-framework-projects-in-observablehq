{
 "cells": [
  {
   "cell_type": "code",
   "execution_count": 1,
   "metadata": {},
   "outputs": [],
   "source": [
    "import pandas as pd\n",
    "\n",
    "import requests\n",
    "from bs4 import BeautifulSoup"
   ]
  },
  {
   "cell_type": "code",
   "execution_count": 47,
   "metadata": {},
   "outputs": [],
   "source": [
    "def scrape_website(url):\n",
    "    response = requests.get(url)\n",
    "    soup = BeautifulSoup(response.content, \"html.parser\")\n",
    "    return soup\n",
    "\n",
    "\n",
    "def get_data(url):\n",
    "    data = scrape_website(url)\n",
    "    return data\n"
   ]
  },
  {
   "cell_type": "code",
   "execution_count": null,
   "metadata": {},
   "outputs": [],
   "source": [
    "# Example usage\n",
    "schedule_url = \"https://fbref.com/en/comps/25/schedule/J1-League-Scores-and-Fixtures\"\n",
    "schedule = get_data(schedule_url)\n",
    "print(schedule)"
   ]
  },
  {
   "cell_type": "code",
   "execution_count": 52,
   "metadata": {},
   "outputs": [
    {
     "data": {
      "text/plain": [
       "bs4.BeautifulSoup"
      ]
     },
     "execution_count": 52,
     "metadata": {},
     "output_type": "execute_result"
    }
   ],
   "source": [
    "type(schedule)"
   ]
  },
  {
   "cell_type": "code",
   "execution_count": 53,
   "metadata": {},
   "outputs": [
    {
     "data": {
      "text/html": [
       "<div>\n",
       "<style scoped>\n",
       "    .dataframe tbody tr th:only-of-type {\n",
       "        vertical-align: middle;\n",
       "    }\n",
       "\n",
       "    .dataframe tbody tr th {\n",
       "        vertical-align: top;\n",
       "    }\n",
       "\n",
       "    .dataframe thead th {\n",
       "        text-align: right;\n",
       "    }\n",
       "</style>\n",
       "<table border=\"1\" class=\"dataframe\">\n",
       "  <thead>\n",
       "    <tr style=\"text-align: right;\">\n",
       "      <th></th>\n",
       "      <th>Wk</th>\n",
       "      <th>Day</th>\n",
       "      <th>Date</th>\n",
       "      <th>Time</th>\n",
       "      <th>Home</th>\n",
       "      <th>Score</th>\n",
       "      <th>Away</th>\n",
       "      <th>Attendance</th>\n",
       "      <th>Venue</th>\n",
       "      <th>Referee</th>\n",
       "      <th>Match Report</th>\n",
       "      <th>Notes</th>\n",
       "      <th>id</th>\n",
       "      <th>scraped</th>\n",
       "    </tr>\n",
       "  </thead>\n",
       "  <tbody>\n",
       "    <tr>\n",
       "      <th>0</th>\n",
       "      <td>1</td>\n",
       "      <td>Fri</td>\n",
       "      <td>2024-02-23</td>\n",
       "      <td>14:00</td>\n",
       "      <td>Sanfrecce</td>\n",
       "      <td>NaN</td>\n",
       "      <td>Urawa Reds</td>\n",
       "      <td>NaN</td>\n",
       "      <td>EDION Stadium</td>\n",
       "      <td>NaN</td>\n",
       "      <td>Head-to-Head</td>\n",
       "      <td>NaN</td>\n",
       "      <td>1_Sanfrecce_Urawa Reds</td>\n",
       "      <td>False</td>\n",
       "    </tr>\n",
       "    <tr>\n",
       "      <th>1</th>\n",
       "      <td>1</td>\n",
       "      <td>Fri</td>\n",
       "      <td>2024-02-23</td>\n",
       "      <td>18:00</td>\n",
       "      <td>Grampus</td>\n",
       "      <td>NaN</td>\n",
       "      <td>Kashima Antlers</td>\n",
       "      <td>NaN</td>\n",
       "      <td>Toyota Stadium</td>\n",
       "      <td>NaN</td>\n",
       "      <td>Head-to-Head</td>\n",
       "      <td>NaN</td>\n",
       "      <td>1_Grampus_Kashima Antlers</td>\n",
       "      <td>False</td>\n",
       "    </tr>\n",
       "    <tr>\n",
       "      <th>2</th>\n",
       "      <td>1</td>\n",
       "      <td>Sat</td>\n",
       "      <td>2024-02-24</td>\n",
       "      <td>13:00</td>\n",
       "      <td>Júbilo Iwata</td>\n",
       "      <td>NaN</td>\n",
       "      <td>Vissel Kobe</td>\n",
       "      <td>NaN</td>\n",
       "      <td>Yamaha Stadium</td>\n",
       "      <td>NaN</td>\n",
       "      <td>Head-to-Head</td>\n",
       "      <td>NaN</td>\n",
       "      <td>1_Júbilo Iwata_Vissel Kobe</td>\n",
       "      <td>False</td>\n",
       "    </tr>\n",
       "    <tr>\n",
       "      <th>3</th>\n",
       "      <td>1</td>\n",
       "      <td>Sat</td>\n",
       "      <td>2024-02-24</td>\n",
       "      <td>14:00</td>\n",
       "      <td>Avispa Fukuoka</td>\n",
       "      <td>NaN</td>\n",
       "      <td>Consa Sapporo</td>\n",
       "      <td>NaN</td>\n",
       "      <td>Best Denki Stadium</td>\n",
       "      <td>NaN</td>\n",
       "      <td>Head-to-Head</td>\n",
       "      <td>NaN</td>\n",
       "      <td>1_Avispa Fukuoka_Consa Sapporo</td>\n",
       "      <td>False</td>\n",
       "    </tr>\n",
       "    <tr>\n",
       "      <th>4</th>\n",
       "      <td>1</td>\n",
       "      <td>Sat</td>\n",
       "      <td>2024-02-24</td>\n",
       "      <td>14:00</td>\n",
       "      <td>Sagan Tosu</td>\n",
       "      <td>NaN</td>\n",
       "      <td>Albirex Niigata</td>\n",
       "      <td>NaN</td>\n",
       "      <td>Ekimae Real Estate Stadium</td>\n",
       "      <td>NaN</td>\n",
       "      <td>Head-to-Head</td>\n",
       "      <td>NaN</td>\n",
       "      <td>1_Sagan Tosu_Albirex Niigata</td>\n",
       "      <td>False</td>\n",
       "    </tr>\n",
       "  </tbody>\n",
       "</table>\n",
       "</div>"
      ],
      "text/plain": [
       "   Wk  Day        Date   Time            Home  Score             Away  \\\n",
       "0   1  Fri  2024-02-23  14:00       Sanfrecce    NaN       Urawa Reds   \n",
       "1   1  Fri  2024-02-23  18:00         Grampus    NaN  Kashima Antlers   \n",
       "2   1  Sat  2024-02-24  13:00    Júbilo Iwata    NaN      Vissel Kobe   \n",
       "3   1  Sat  2024-02-24  14:00  Avispa Fukuoka    NaN    Consa Sapporo   \n",
       "4   1  Sat  2024-02-24  14:00      Sagan Tosu    NaN  Albirex Niigata   \n",
       "\n",
       "   Attendance                       Venue  Referee  Match Report  Notes  \\\n",
       "0         NaN               EDION Stadium      NaN  Head-to-Head    NaN   \n",
       "1         NaN              Toyota Stadium      NaN  Head-to-Head    NaN   \n",
       "2         NaN              Yamaha Stadium      NaN  Head-to-Head    NaN   \n",
       "3         NaN          Best Denki Stadium      NaN  Head-to-Head    NaN   \n",
       "4         NaN  Ekimae Real Estate Stadium      NaN  Head-to-Head    NaN   \n",
       "\n",
       "                               id  scraped  \n",
       "0          1_Sanfrecce_Urawa Reds    False  \n",
       "1       1_Grampus_Kashima Antlers    False  \n",
       "2      1_Júbilo Iwata_Vissel Kobe    False  \n",
       "3  1_Avispa Fukuoka_Consa Sapporo    False  \n",
       "4    1_Sagan Tosu_Albirex Niigata    False  "
      ]
     },
     "execution_count": 53,
     "metadata": {},
     "output_type": "execute_result"
    }
   ],
   "source": [
    "div = schedule.find(\"div\", {\"id\": \"all_sched\"})\n",
    "table = div.find(\"table\")\n",
    "df = pd.read_html(str(table))[0]\n",
    "df = df.dropna(axis=0, subset=['Home', 'Away'])\n",
    "df['Wk']  = df['Wk'].astype(int)\n",
    "df['id']  = df['Wk'].astype(str) + '_' + df['Home'] + '_' + df['Away']\n",
    "df['scraped'] = False\n",
    "df.head(5)\n"
   ]
  },
  {
   "cell_type": "code",
   "execution_count": 43,
   "metadata": {},
   "outputs": [],
   "source": [
    "df.to_csv('../docs/data/j1-data/j1-schedule-2024.csv', index=False)"
   ]
  },
  {
   "cell_type": "code",
   "execution_count": null,
   "metadata": {},
   "outputs": [],
   "source": []
  }
 ],
 "metadata": {
  "kernelspec": {
   "display_name": "base",
   "language": "python",
   "name": "python3"
  },
  "language_info": {
   "codemirror_mode": {
    "name": "ipython",
    "version": 3
   },
   "file_extension": ".py",
   "mimetype": "text/x-python",
   "name": "python",
   "nbconvert_exporter": "python",
   "pygments_lexer": "ipython3",
   "version": "3.8.5"
  }
 },
 "nbformat": 4,
 "nbformat_minor": 2
}
